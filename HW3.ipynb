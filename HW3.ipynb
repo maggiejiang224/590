{
 "cells": [
  {
   "cell_type": "markdown",
   "metadata": {},
   "source": [
    "# 590 HW3"
   ]
  },
  {
   "cell_type": "code",
   "execution_count": 170,
   "metadata": {},
   "outputs": [],
   "source": [
    "import numpy as np\n",
    "import pandas as pd\n",
    "import nltk\n",
    "from nltk.corpus import stopwords\n",
    "\n",
    "import re\n",
    "import matplotlib.pyplot as plt\n",
    "from sklearn.model_selection import train_test_split\n",
    "from sklearn.metrics import roc_curve\n",
    "from sklearn.metrics import auc\n",
    "\n",
    "from keras.datasets import fashion_mnist\n",
    "from keras.layers import Input, Dense, SpatialDropout1D, MaxPool1D, Conv1D,Conv2D,GlobalMaxPooling1D, MaxPooling2D, UpSampling2D,Dropout,Flatten, Embedding, LSTM\n",
    "from keras.models import Model,Sequential\n",
    "from keras import backend as K\n",
    "\n",
    "from tensorflow.keras.preprocessing.text import Tokenizer\n",
    "from tensorflow.keras.preprocessing.sequence import pad_sequences\n",
    "from tensorflow.keras.applications import VGG16\n",
    "from keras.preprocessing import sequence\n",
    "from keras import regularizers\n",
    "import keras\n",
    "import tensorflow as tf\n",
    "\n",
    "from keras.utils import np_utils, to_categorical \n",
    "from keras.datasets import cifar10\n",
    "from keras.preprocessing.image import img_to_array, array_to_img\n",
    "from keras.applications.vgg16 import VGG16, preprocess_input, decode_predictions\n",
    "from keras.layers.advanced_activations import LeakyReLU\n",
    "from keras.optimizers import SGD, Adam, RMSprop\n",
    "\n",
    "from keras.preprocessing.sequence import pad_sequences\n",
    "from keras.preprocessing import sequence\n",
    "from keras.layers import SimpleRNN, LSTM, Embedding\n",
    "\n"
   ]
  },
  {
   "cell_type": "markdown",
   "metadata": {},
   "source": [
    "## PROBLEM 1: AUTOCODER"
   ]
  },
  {
   "cell_type": "code",
   "execution_count": 7,
   "metadata": {},
   "outputs": [],
   "source": [
    "# Load cifar10 data\n",
    "(x_train, y_train), (x_test, y_test) = cifar10.load_data()\n",
    "\n",
    "# normalize training and testing data\n",
    "x_train = x_train.astype('float32') / 255.\n",
    "x_test = x_test.astype('float32') / 255.\n"
   ]
  },
  {
   "cell_type": "code",
   "execution_count": 9,
   "metadata": {
    "scrolled": true
   },
   "outputs": [
    {
     "name": "stdout",
     "output_type": "stream",
     "text": [
      "(50000, 32, 32, 3)\n",
      "(10000, 32, 32, 3)\n"
     ]
    }
   ],
   "source": [
    "print(x_train.shape)\n",
    "print(x_test.shape)"
   ]
  },
  {
   "cell_type": "code",
   "execution_count": 13,
   "metadata": {},
   "outputs": [
    {
     "name": "stdout",
     "output_type": "stream",
     "text": [
      "Model: \"functional_3\"\n",
      "_________________________________________________________________\n",
      "Layer (type)                 Output Shape              Param #   \n",
      "=================================================================\n",
      "input_2 (InputLayer)         [(None, 32, 32, 3)]       0         \n",
      "_________________________________________________________________\n",
      "conv2d_7 (Conv2D)            (None, 32, 32, 32)        896       \n",
      "_________________________________________________________________\n",
      "max_pooling2d_3 (MaxPooling2 (None, 16, 16, 32)        0         \n",
      "_________________________________________________________________\n",
      "conv2d_8 (Conv2D)            (None, 16, 16, 8)         2312      \n",
      "_________________________________________________________________\n",
      "max_pooling2d_4 (MaxPooling2 (None, 8, 8, 8)           0         \n",
      "_________________________________________________________________\n",
      "conv2d_9 (Conv2D)            (None, 8, 8, 8)           584       \n",
      "_________________________________________________________________\n",
      "max_pooling2d_5 (MaxPooling2 (None, 4, 4, 8)           0         \n",
      "_________________________________________________________________\n",
      "conv2d_10 (Conv2D)           (None, 4, 4, 8)           584       \n",
      "_________________________________________________________________\n",
      "up_sampling2d_3 (UpSampling2 (None, 8, 8, 8)           0         \n",
      "_________________________________________________________________\n",
      "conv2d_11 (Conv2D)           (None, 8, 8, 8)           584       \n",
      "_________________________________________________________________\n",
      "up_sampling2d_4 (UpSampling2 (None, 16, 16, 8)         0         \n",
      "_________________________________________________________________\n",
      "conv2d_12 (Conv2D)           (None, 16, 16, 32)        2336      \n",
      "_________________________________________________________________\n",
      "up_sampling2d_5 (UpSampling2 (None, 32, 32, 32)        0         \n",
      "_________________________________________________________________\n",
      "conv2d_13 (Conv2D)           (None, 32, 32, 3)         867       \n",
      "=================================================================\n",
      "Total params: 8,163\n",
      "Trainable params: 8,163\n",
      "Non-trainable params: 0\n",
      "_________________________________________________________________\n"
     ]
    }
   ],
   "source": [
    "# input layer\n",
    "input_img = keras.Input(shape=(32, 32, 3))  \n",
    "\n",
    "# Convolutional autoencoder: \n",
    "x = Conv2D(32, (3,3), activation='relu', padding='same')(input_img)\n",
    "x = MaxPooling2D((2, 2), padding='same')(x)\n",
    "x = Conv2D(8, (3, 3), activation='relu', padding='same')(x)\n",
    "x = MaxPooling2D((2, 2), padding='same')(x)\n",
    "x = Conv2D(8, kernel_size = (3, 3), activation='relu', padding='same')(x)\n",
    "encoded = MaxPooling2D((2, 2), padding='same')(x)\n",
    "\n",
    "\n",
    "x = Conv2D(8, (3, 3), activation='relu', padding='same')(encoded)\n",
    "x = UpSampling2D((2, 2))(x)\n",
    "\n",
    "x = Conv2D(8, (3, 3), activation='relu', padding='same')(x)\n",
    "x = UpSampling2D((2, 2))(x)\n",
    "\n",
    "x = Conv2D(32, (3, 3), activation='relu',padding='same')(x)\n",
    "x = UpSampling2D((2, 2))(x)\n",
    "\n",
    "decoded = Conv2D(3, kernel_size = (3, 3), activation='relu', padding='same')(x)\n",
    "\n",
    "\n",
    "autoencoder = Model(input_img, decoded)\n",
    "autoencoder.compile(optimizer='adam', metrics=['accuracy'], loss='binary_crossentropy')\n",
    "\n",
    "autoencoder.summary()"
   ]
  },
  {
   "cell_type": "code",
   "execution_count": 14,
   "metadata": {},
   "outputs": [
    {
     "name": "stdout",
     "output_type": "stream",
     "text": [
      "Epoch 1/10\n",
      "391/391 [==============================] - 128s 326ms/step - loss: 0.6856 - accuracy: 0.3973 - val_loss: 0.6101 - val_accuracy: 0.4152\n",
      "Epoch 2/10\n",
      "391/391 [==============================] - 118s 301ms/step - loss: 0.6250 - accuracy: 0.4036 - val_loss: 0.6161 - val_accuracy: 0.4033\n",
      "Epoch 3/10\n",
      "391/391 [==============================] - 148s 379ms/step - loss: 0.6110 - accuracy: 0.4080 - val_loss: 0.6066 - val_accuracy: 0.4194\n",
      "Epoch 4/10\n",
      "391/391 [==============================] - 169s 433ms/step - loss: 0.6041 - accuracy: 0.4297 - val_loss: 0.6032 - val_accuracy: 0.4648\n",
      "Epoch 5/10\n",
      "391/391 [==============================] - 162s 414ms/step - loss: 0.6007 - accuracy: 0.4553 - val_loss: 0.5984 - val_accuracy: 0.4926\n",
      "Epoch 6/10\n",
      "391/391 [==============================] - 108s 276ms/step - loss: 0.6036 - accuracy: 0.4846 - val_loss: 0.5992 - val_accuracy: 0.4711\n",
      "Epoch 7/10\n",
      "391/391 [==============================] - 113s 288ms/step - loss: 0.5951 - accuracy: 0.5469 - val_loss: 0.5933 - val_accuracy: 0.5985\n",
      "Epoch 8/10\n",
      "391/391 [==============================] - 147s 375ms/step - loss: 0.5931 - accuracy: 0.5796 - val_loss: 0.5918 - val_accuracy: 0.5809\n",
      "Epoch 9/10\n",
      "391/391 [==============================] - 182s 466ms/step - loss: 0.5961 - accuracy: 0.5476 - val_loss: 0.5959 - val_accuracy: 0.5058\n",
      "Epoch 10/10\n",
      "391/391 [==============================] - 169s 432ms/step - loss: 0.5920 - accuracy: 0.5813 - val_loss: 0.5906 - val_accuracy: 0.6026\n"
     ]
    },
    {
     "data": {
      "text/plain": [
       "<tensorflow.python.keras.callbacks.History at 0x7fa1dc682a50>"
      ]
     },
     "execution_count": 14,
     "metadata": {},
     "output_type": "execute_result"
    }
   ],
   "source": [
    "autoencoder.fit(x_train, x_train,\n",
    "                epochs=10,\n",
    "                batch_size=128,\n",
    "                shuffle=True,\n",
    "                validation_data=(x_test, x_test))"
   ]
  },
  {
   "cell_type": "code",
   "execution_count": 15,
   "metadata": {},
   "outputs": [
    {
     "name": "stderr",
     "output_type": "stream",
     "text": [
      "Clipping input data to the valid range for imshow with RGB data ([0..1] for floats or [0..255] for integers).\n"
     ]
    },
    {
     "data": {
      "image/png": "[encoded data removed]",
      "text/plain": [
       "<Figure size 1440x288 with 20 Axes>"
      ]
     },
     "metadata": {
      "needs_background": "light"
     },
     "output_type": "display_data"
    }
   ],
   "source": [
    "#decode image and visualize\n",
    "decoded_imgs = autoencoder.predict(x_test)\n",
    "\n",
    "n = 10\n",
    "plt.figure(figsize=(20, 4))\n",
    "\n",
    "for i in range(n):\n",
    "    # display original\n",
    "    ax = plt.subplot(2, n, i+1)\n",
    "    plt.imshow(x_test[i])\n",
    "    plt.gray()\n",
    "    ax.get_xaxis().set_visible(False)\n",
    "    ax.get_yaxis().set_visible(False)\n",
    "\n",
    "    # display reconstruction\n",
    "    ax = plt.subplot(2, n, i + n+1)\n",
    "    plt.imshow(decoded_imgs[i])\n",
    "    plt.gray()\n",
    "    ax.get_xaxis().set_visible(False)\n",
    "    ax.get_yaxis().set_visible(False)\n",
    "\n",
    "plt.show()"
   ]
  },
  {
   "cell_type": "markdown",
   "metadata": {},
   "source": [
    "## Problem 2.1 Deep CNN"
   ]
  },
  {
   "cell_type": "code",
   "execution_count": 19,
   "metadata": {},
   "outputs": [
    {
     "data": {
      "text/plain": [
       "<tf.Tensor: shape=(50000, 1, 10), dtype=float32, numpy=\n",
       "array([[[0., 0., 0., ..., 0., 0., 0.]],\n",
       "\n",
       "       [[0., 0., 0., ..., 0., 0., 1.]],\n",
       "\n",
       "       [[0., 0., 0., ..., 0., 0., 1.]],\n",
       "\n",
       "       ...,\n",
       "\n",
       "       [[0., 0., 0., ..., 0., 0., 1.]],\n",
       "\n",
       "       [[0., 1., 0., ..., 0., 0., 0.]],\n",
       "\n",
       "       [[0., 1., 0., ..., 0., 0., 0.]]], dtype=float32)>"
      ]
     },
     "execution_count": 19,
     "metadata": {},
     "output_type": "execute_result"
    }
   ],
   "source": [
    "tf.one_hot(y_train,10)\n"
   ]
  },
  {
   "cell_type": "code",
   "execution_count": 36,
   "metadata": {},
   "outputs": [],
   "source": [
    "import tensorflow.keras as tfk\n",
    "tfkl = tfk.layers"
   ]
  },
  {
   "cell_type": "code",
   "execution_count": 56,
   "metadata": {
    "scrolled": true
   },
   "outputs": [
    {
     "name": "stdout",
     "output_type": "stream",
     "text": [
      "Model: \"sequential_21\"\n",
      "_________________________________________________________________\n",
      "Layer (type)                 Output Shape              Param #   \n",
      "=================================================================\n",
      "conv2d_54 (Conv2D)           (None, 30, 30, 32)        896       \n",
      "_________________________________________________________________\n",
      "max_pooling2d_45 (MaxPooling (None, 15, 15, 32)        0         \n",
      "_________________________________________________________________\n",
      "dropout_42 (Dropout)         (None, 15, 15, 32)        0         \n",
      "_________________________________________________________________\n",
      "conv2d_55 (Conv2D)           (None, 13, 13, 32)        9248      \n",
      "_________________________________________________________________\n",
      "max_pooling2d_46 (MaxPooling (None, 6, 6, 32)          0         \n",
      "_________________________________________________________________\n",
      "dropout_43 (Dropout)         (None, 6, 6, 32)          0         \n",
      "_________________________________________________________________\n",
      "flatten_19 (Flatten)         (None, 1152)              0         \n",
      "_________________________________________________________________\n",
      "dense_5 (Dense)              (None, 64)                73792     \n",
      "_________________________________________________________________\n",
      "dropout_44 (Dropout)         (None, 64)                0         \n",
      "_________________________________________________________________\n",
      "dense_6 (Dense)              (None, 10)                650       \n",
      "=================================================================\n",
      "Total params: 84,586\n",
      "Trainable params: 84,586\n",
      "Non-trainable params: 0\n",
      "_________________________________________________________________\n"
     ]
    }
   ],
   "source": [
    "model = Sequential()\n",
    "# block 1\n",
    "model.add(tfkl.Conv2D(32,\n",
    "                      (3,3),\n",
    "                      strides=1,\n",
    "                      input_shape=(32,32,3),\n",
    "                      padding='valid',\n",
    "                      activation='relu'))\n",
    "model.add(tfkl.MaxPool2D(pool_size=(2,2)))\n",
    "model.add(tfkl.Dropout(0.3))\n",
    "\n",
    "# block 2\n",
    "model.add(tfkl.Conv2D(32,\n",
    "                      (3,3),\n",
    "                      strides=1,\n",
    "                      padding='valid',\n",
    "                      activation='relu'))\n",
    "model.add(tfkl.MaxPool2D(pool_size=(2,2)))\n",
    "model.add(tfkl.Dropout(0.3))\n",
    "model.add(tfkl.Flatten())\n",
    "# block 3\n",
    "model.add(tfkl.Dense(64,activation='relu'))\n",
    "model.add(tfkl.Dropout(0.5))\n",
    "model.add(tfkl.Dense(10,activation='softmax'))\n",
    "model.summary()"
   ]
  },
  {
   "cell_type": "code",
   "execution_count": 57,
   "metadata": {},
   "outputs": [],
   "source": [
    "# compile model\n",
    "model.compile(optimizer=tfk.optimizers.RMSprop(),\n",
    "               loss='categorical_crossentropy',\n",
    "               metrics=['accuracy'])"
   ]
  },
  {
   "cell_type": "code",
   "execution_count": 58,
   "metadata": {},
   "outputs": [
    {
     "name": "stdout",
     "output_type": "stream",
     "text": [
      "Epoch 1/20\n",
      "100/100 [==============================] - 6s 63ms/step - loss: 2.2976 - accuracy: 0.1306 - val_loss: 2.2570 - val_accuracy: 0.1980\n",
      "Epoch 2/20\n",
      "100/100 [==============================] - 5s 51ms/step - loss: 2.2029 - accuracy: 0.1606 - val_loss: 2.1534 - val_accuracy: 0.1870\n",
      "Epoch 3/20\n",
      "100/100 [==============================] - 6s 60ms/step - loss: 2.1351 - accuracy: 0.2138 - val_loss: 2.0494 - val_accuracy: 0.2309\n",
      "Epoch 4/20\n",
      "100/100 [==============================] - 4s 43ms/step - loss: 2.1080 - accuracy: 0.2219 - val_loss: 1.9947 - val_accuracy: 0.2772\n",
      "Epoch 5/20\n",
      "100/100 [==============================] - 4s 45ms/step - loss: 2.0257 - accuracy: 0.2494 - val_loss: 2.0149 - val_accuracy: 0.2679\n",
      "Epoch 6/20\n",
      "100/100 [==============================] - 4s 43ms/step - loss: 1.9805 - accuracy: 0.2625 - val_loss: 1.8916 - val_accuracy: 0.3253\n",
      "Epoch 7/20\n",
      "100/100 [==============================] - 4s 42ms/step - loss: 1.9334 - accuracy: 0.2744 - val_loss: 1.8579 - val_accuracy: 0.3313\n",
      "Epoch 8/20\n",
      "100/100 [==============================] - 4s 42ms/step - loss: 1.8871 - accuracy: 0.3000 - val_loss: 1.8167 - val_accuracy: 0.3880\n",
      "Epoch 9/20\n",
      "100/100 [==============================] - 4s 43ms/step - loss: 1.8876 - accuracy: 0.2962 - val_loss: 1.8604 - val_accuracy: 0.3357\n",
      "Epoch 10/20\n",
      "100/100 [==============================] - 5s 49ms/step - loss: 1.8428 - accuracy: 0.3369 - val_loss: 1.8213 - val_accuracy: 0.3584\n",
      "Epoch 11/20\n",
      "100/100 [==============================] - 4s 42ms/step - loss: 1.8296 - accuracy: 0.3294 - val_loss: 1.6958 - val_accuracy: 0.4097\n",
      "Epoch 12/20\n",
      "100/100 [==============================] - 4s 42ms/step - loss: 1.7714 - accuracy: 0.3512 - val_loss: 1.6320 - val_accuracy: 0.4164\n",
      "Epoch 13/20\n",
      "100/100 [==============================] - 4s 42ms/step - loss: 1.7584 - accuracy: 0.3556 - val_loss: 1.6857 - val_accuracy: 0.4027\n",
      "Epoch 14/20\n",
      "100/100 [==============================] - 4s 44ms/step - loss: 1.7665 - accuracy: 0.3331 - val_loss: 1.6283 - val_accuracy: 0.4266\n",
      "Epoch 15/20\n",
      "100/100 [==============================] - 5s 46ms/step - loss: 1.7595 - accuracy: 0.3481 - val_loss: 1.6421 - val_accuracy: 0.4404\n",
      "Epoch 16/20\n",
      "100/100 [==============================] - 4s 41ms/step - loss: 1.7185 - accuracy: 0.3775 - val_loss: 1.5884 - val_accuracy: 0.4376\n",
      "Epoch 17/20\n",
      "100/100 [==============================] - 5s 54ms/step - loss: 1.7038 - accuracy: 0.3831 - val_loss: 1.5828 - val_accuracy: 0.4509\n",
      "Epoch 18/20\n",
      "100/100 [==============================] - 4s 43ms/step - loss: 1.7179 - accuracy: 0.3844 - val_loss: 1.5492 - val_accuracy: 0.4502\n",
      "Epoch 19/20\n",
      "100/100 [==============================] - 4s 42ms/step - loss: 1.6941 - accuracy: 0.3850 - val_loss: 1.5860 - val_accuracy: 0.4317\n",
      "Epoch 20/20\n",
      "100/100 [==============================] - 4s 42ms/step - loss: 1.6666 - accuracy: 0.4006 - val_loss: 1.5759 - val_accuracy: 0.4164\n"
     ]
    }
   ],
   "source": [
    "train_label = to_categorical(y_train)\n",
    "test_label = to_categorical(y_test)\n",
    "results = model.fit(x_train,\n",
    "                      train_label,\n",
    "                      steps_per_epoch=100,\n",
    "                      epochs=20, \n",
    "                      batch_size=16,\n",
    "                      validation_data=(x_test,test_label))"
   ]
  },
  {
   "cell_type": "code",
   "execution_count": 59,
   "metadata": {},
   "outputs": [
    {
     "data": {
      "text/plain": [
       "<matplotlib.legend.Legend at 0x7fa16d8b8b10>"
      ]
     },
     "execution_count": 59,
     "metadata": {},
     "output_type": "execute_result"
    },
    {
     "data": {
      "image/png": "[encoded data removed]",
      "text/plain": [
       "<Figure size 432x288 with 1 Axes>"
      ]
     },
     "metadata": {
      "needs_background": "light"
     },
     "output_type": "display_data"
    }
   ],
   "source": [
    "# Plot the test and train results\n",
    "plt.plot(results.history['loss'])\n",
    "plt.plot(results.history['val_loss'])\n",
    "plt.legend(labels=['train','test'])"
   ]
  },
  {
   "cell_type": "markdown",
   "metadata": {},
   "source": [
    "## Problem 2.2 Transfer Learning"
   ]
  },
  {
   "cell_type": "code",
   "execution_count": 60,
   "metadata": {},
   "outputs": [
    {
     "name": "stdout",
     "output_type": "stream",
     "text": [
      "Model: \"vgg16\"\n",
      "_________________________________________________________________\n",
      "Layer (type)                 Output Shape              Param #   \n",
      "=================================================================\n",
      "input_3 (InputLayer)         [(None, 32, 32, 3)]       0         \n",
      "_________________________________________________________________\n",
      "block1_conv1 (Conv2D)        (None, 32, 32, 64)        1792      \n",
      "_________________________________________________________________\n",
      "block1_conv2 (Conv2D)        (None, 32, 32, 64)        36928     \n",
      "_________________________________________________________________\n",
      "block1_pool (MaxPooling2D)   (None, 16, 16, 64)        0         \n",
      "_________________________________________________________________\n",
      "block2_conv1 (Conv2D)        (None, 16, 16, 128)       73856     \n",
      "_________________________________________________________________\n",
      "block2_conv2 (Conv2D)        (None, 16, 16, 128)       147584    \n",
      "_________________________________________________________________\n",
      "block2_pool (MaxPooling2D)   (None, 8, 8, 128)         0         \n",
      "_________________________________________________________________\n",
      "block3_conv1 (Conv2D)        (None, 8, 8, 256)         295168    \n",
      "_________________________________________________________________\n",
      "block3_conv2 (Conv2D)        (None, 8, 8, 256)         590080    \n",
      "_________________________________________________________________\n",
      "block3_conv3 (Conv2D)        (None, 8, 8, 256)         590080    \n",
      "_________________________________________________________________\n",
      "block3_pool (MaxPooling2D)   (None, 4, 4, 256)         0         \n",
      "_________________________________________________________________\n",
      "block4_conv1 (Conv2D)        (None, 4, 4, 512)         1180160   \n",
      "_________________________________________________________________\n",
      "block4_conv2 (Conv2D)        (None, 4, 4, 512)         2359808   \n",
      "_________________________________________________________________\n",
      "block4_conv3 (Conv2D)        (None, 4, 4, 512)         2359808   \n",
      "_________________________________________________________________\n",
      "block4_pool (MaxPooling2D)   (None, 2, 2, 512)         0         \n",
      "_________________________________________________________________\n",
      "block5_conv1 (Conv2D)        (None, 2, 2, 512)         2359808   \n",
      "_________________________________________________________________\n",
      "block5_conv2 (Conv2D)        (None, 2, 2, 512)         2359808   \n",
      "_________________________________________________________________\n",
      "block5_conv3 (Conv2D)        (None, 2, 2, 512)         2359808   \n",
      "_________________________________________________________________\n",
      "block5_pool (MaxPooling2D)   (None, 1, 1, 512)         0         \n",
      "=================================================================\n",
      "Total params: 14,714,688\n",
      "Trainable params: 14,714,688\n",
      "Non-trainable params: 0\n",
      "_________________________________________________________________\n"
     ]
    }
   ],
   "source": [
    "conv_base = VGG16(weights = 'imagenet', include_top = False, input_shape = (32,32,3))\n",
    "conv_base.summary()"
   ]
  },
  {
   "cell_type": "code",
   "execution_count": 62,
   "metadata": {},
   "outputs": [
    {
     "name": "stdout",
     "output_type": "stream",
     "text": [
      "Model: \"sequential_23\"\n",
      "_________________________________________________________________\n",
      "Layer (type)                 Output Shape              Param #   \n",
      "=================================================================\n",
      "vgg16 (Functional)           (None, 1, 1, 512)         14714688  \n",
      "_________________________________________________________________\n",
      "flatten_21 (Flatten)         (None, 512)               0         \n",
      "_________________________________________________________________\n",
      "dense_9 (Dense)              (None, 32)                16416     \n",
      "_________________________________________________________________\n",
      "dropout_46 (Dropout)         (None, 32)                0         \n",
      "_________________________________________________________________\n",
      "dense_10 (Dense)             (None, 10)                330       \n",
      "=================================================================\n",
      "Total params: 14,731,434\n",
      "Trainable params: 14,731,434\n",
      "Non-trainable params: 0\n",
      "_________________________________________________________________\n"
     ]
    }
   ],
   "source": [
    "# train model\n",
    "model = Sequential()\n",
    "model.add(conv_base)\n",
    "model.add(tfkl.Flatten())\n",
    "model.add(tfkl.Dense(32, \n",
    "                      activation='relu'))\n",
    "model.add(tfkl.Dropout(0.5))\n",
    "model.add(tfkl.Dense(10, \n",
    "                      activation='softmax'))\n",
    "model.summary()"
   ]
  },
  {
   "cell_type": "code",
   "execution_count": 67,
   "metadata": {},
   "outputs": [],
   "source": [
    "model.compile(optimizer=tfk.optimizers.RMSprop(),\n",
    "               loss='categorical_crossentropy',\n",
    "               metrics=['accuracy'])"
   ]
  },
  {
   "cell_type": "code",
   "execution_count": 69,
   "metadata": {},
   "outputs": [
    {
     "name": "stdout",
     "output_type": "stream",
     "text": [
      "Epoch 1/5\n",
      "1563/1563 [==============================] - 481s 308ms/step - loss: 1.8225 - accuracy: 0.3448 - val_loss: 1.4580 - val_accuracy: 0.5079\n",
      "Epoch 2/5\n",
      "1563/1563 [==============================] - 545s 349ms/step - loss: 1.5982 - accuracy: 0.4344 - val_loss: 1.3666 - val_accuracy: 0.5287\n",
      "Epoch 3/5\n",
      "1563/1563 [==============================] - 466s 298ms/step - loss: 1.5531 - accuracy: 0.4522 - val_loss: 1.3431 - val_accuracy: 0.5364\n",
      "Epoch 4/5\n",
      "1563/1563 [==============================] - 444s 284ms/step - loss: 1.5243 - accuracy: 0.4661 - val_loss: 1.3362 - val_accuracy: 0.5419\n",
      "Epoch 5/5\n",
      "1563/1563 [==============================] - 506s 324ms/step - loss: 1.5138 - accuracy: 0.4735 - val_loss: 1.3304 - val_accuracy: 0.5409\n"
     ]
    }
   ],
   "source": [
    "results = model.fit(x_train, \n",
    "                      train_label, \n",
    "                      epochs=5, \n",
    "                      batch_size=32,\n",
    "                      validation_data=(x_test,test_label))"
   ]
  },
  {
   "cell_type": "code",
   "execution_count": 71,
   "metadata": {},
   "outputs": [
    {
     "data": {
      "text/plain": [
       "<matplotlib.legend.Legend at 0x7fa16e4b3f50>"
      ]
     },
     "execution_count": 71,
     "metadata": {},
     "output_type": "execute_result"
    },
    {
     "data": {
      "image/png": "[encoded data removed]",
      "text/plain": [
       "<Figure size 432x288 with 1 Axes>"
      ]
     },
     "metadata": {
      "needs_background": "light"
     },
     "output_type": "display_data"
    }
   ],
   "source": [
    "# plot loss for train and test\n",
    "plt.plot(results.history['loss'])\n",
    "plt.plot(results.history['val_loss'])\n",
    "plt.legend(labels=['train','test'])"
   ]
  },
  {
   "cell_type": "markdown",
   "metadata": {},
   "source": [
    "## Problem 3.Text Classification\n",
    "### 3.1 RNN"
   ]
  },
  {
   "cell_type": "code",
   "execution_count": 158,
   "metadata": {},
   "outputs": [
    {
     "data": {
      "text/html": [
       "<div>\n",
       "<style scoped>\n",
       "    .dataframe tbody tr th:only-of-type {\n",
       "        vertical-align: middle;\n",
       "    }\n",
       "\n",
       "    .dataframe tbody tr th {\n",
       "        vertical-align: top;\n",
       "    }\n",
       "\n",
       "    .dataframe thead th {\n",
       "        text-align: right;\n",
       "    }\n",
       "</style>\n",
       "<table border=\"1\" class=\"dataframe\">\n",
       "  <thead>\n",
       "    <tr style=\"text-align: right;\">\n",
       "      <th></th>\n",
       "      <th>Message</th>\n",
       "      <th>category_val</th>\n",
       "    </tr>\n",
       "  </thead>\n",
       "  <tbody>\n",
       "    <tr>\n",
       "      <th>0</th>\n",
       "      <td>Go until jurong point, crazy.. Available only ...</td>\n",
       "      <td>0</td>\n",
       "    </tr>\n",
       "    <tr>\n",
       "      <th>1</th>\n",
       "      <td>Ok lar... Joking wif u oni...</td>\n",
       "      <td>0</td>\n",
       "    </tr>\n",
       "    <tr>\n",
       "      <th>2</th>\n",
       "      <td>Free entry in 2 a wkly comp to win FA Cup fina...</td>\n",
       "      <td>1</td>\n",
       "    </tr>\n",
       "    <tr>\n",
       "      <th>3</th>\n",
       "      <td>U dun say so early hor... U c already then say...</td>\n",
       "      <td>0</td>\n",
       "    </tr>\n",
       "    <tr>\n",
       "      <th>4</th>\n",
       "      <td>Nah I don't think he goes to usf, he lives aro...</td>\n",
       "      <td>0</td>\n",
       "    </tr>\n",
       "  </tbody>\n",
       "</table>\n",
       "</div>"
      ],
      "text/plain": [
       "                                             Message  category_val\n",
       "0  Go until jurong point, crazy.. Available only ...             0\n",
       "1                      Ok lar... Joking wif u oni...             0\n",
       "2  Free entry in 2 a wkly comp to win FA Cup fina...             1\n",
       "3  U dun say so early hor... U c already then say...             0\n",
       "4  Nah I don't think he goes to usf, he lives aro...             0"
      ]
     },
     "execution_count": 158,
     "metadata": {},
     "output_type": "execute_result"
    }
   ],
   "source": [
    "spam = pd.read_csv('./desktop/SPAM_detection.csv')\n",
    "spam.head()"
   ]
  },
  {
   "cell_type": "code",
   "execution_count": 159,
   "metadata": {},
   "outputs": [],
   "source": [
    "x = spam['Message'].values\n",
    "y = spam['category_val'].values"
   ]
  },
  {
   "cell_type": "code",
   "execution_count": 161,
   "metadata": {},
   "outputs": [],
   "source": [
    "# data preprocessing\n",
    "# tokenize data\n",
    "# transform to sequences\n",
    "tok = Tokenizer()\n",
    "tok.fit_on_texts(x)\n",
    "x = tok.texts_to_sequences(x)\n",
    "x = sequence.pad_sequences(x)"
   ]
  },
  {
   "cell_type": "code",
   "execution_count": 149,
   "metadata": {},
   "outputs": [],
   "source": [
    "import sklearn"
   ]
  },
  {
   "cell_type": "code",
   "execution_count": 162,
   "metadata": {},
   "outputs": [],
   "source": [
    "# split data to train and test\n",
    "x_train, x_test, y_train, y_test  = sklearn.model_selection.train_test_split(x, y, test_size=0.3)"
   ]
  },
  {
   "cell_type": "code",
   "execution_count": 163,
   "metadata": {
    "scrolled": false
   },
   "outputs": [
    {
     "name": "stdout",
     "output_type": "stream",
     "text": [
      "Model: \"sequential_32\"\n",
      "_________________________________________________________________\n",
      "Layer (type)                 Output Shape              Param #   \n",
      "=================================================================\n",
      "embedding_7 (Embedding)      (None, 40, 32)            288160    \n",
      "_________________________________________________________________\n",
      "lstm_7 (LSTM)                (None, 40, 128)           82432     \n",
      "_________________________________________________________________\n",
      "global_max_pooling1d_7 (Glob (None, 128)               0         \n",
      "_________________________________________________________________\n",
      "dropout_56 (Dropout)         (None, 128)               0         \n",
      "_________________________________________________________________\n",
      "dense_20 (Dense)             (None, 64)                8256      \n",
      "_________________________________________________________________\n",
      "dropout_57 (Dropout)         (None, 64)                0         \n",
      "_________________________________________________________________\n",
      "dense_21 (Dense)             (None, 1)                 65        \n",
      "=================================================================\n",
      "Total params: 378,913\n",
      "Trainable params: 378,913\n",
      "Non-trainable params: 0\n",
      "_________________________________________________________________\n"
     ]
    }
   ],
   "source": [
    "## RNN with LSTM\n",
    "model = tfk.Sequential()\n",
    "model.add(tfkl.Embedding(len(tokenizer.word_index)+1, 32, input_length=40))\n",
    "model.add(tfkl.LSTM(128,return_sequences=True))\n",
    "# reduce dimension\n",
    "model.add(tfkl.GlobalMaxPool1D())\n",
    "model.add(tfkl.Dropout(0.4))\n",
    "\n",
    "model.add(tfkl.Dense(64,activation=\"relu\"))\n",
    "model.add(tfkl.Dropout(0.4))\n",
    "\n",
    "model.add(tfkl.Dense(1,activation=\"sigmoid\"))\n",
    "model.compile(loss='binary_crossentropy', optimizer=tfk.optimizers.RMSprop(lr=0.01),metrics=['accuracy'])\n",
    "model.summary()"
   ]
  },
  {
   "cell_type": "code",
   "execution_count": 164,
   "metadata": {},
   "outputs": [
    {
     "name": "stdout",
     "output_type": "stream",
     "text": [
      "Epoch 1/10\n",
      "WARNING:tensorflow:Model was constructed with shape (None, 40) for input Tensor(\"embedding_7_input:0\", shape=(None, 40), dtype=float32), but it was called on an input with incompatible shape (None, 189).\n",
      "WARNING:tensorflow:Model was constructed with shape (None, 40) for input Tensor(\"embedding_7_input:0\", shape=(None, 40), dtype=float32), but it was called on an input with incompatible shape (None, 189).\n",
      "122/122 [==============================] - ETA: 0s - loss: 0.2492 - accuracy: 0.9236WARNING:tensorflow:Model was constructed with shape (None, 40) for input Tensor(\"embedding_7_input:0\", shape=(None, 40), dtype=float32), but it was called on an input with incompatible shape (None, 189).\n",
      "122/122 [==============================] - 46s 378ms/step - loss: 0.2492 - accuracy: 0.9236 - val_loss: 0.1140 - val_accuracy: 0.9629\n",
      "Epoch 2/10\n",
      "122/122 [==============================] - 54s 443ms/step - loss: 0.0577 - accuracy: 0.9849 - val_loss: 0.0480 - val_accuracy: 0.9856\n",
      "Epoch 3/10\n",
      "122/122 [==============================] - 51s 417ms/step - loss: 0.0386 - accuracy: 0.9949 - val_loss: 0.0606 - val_accuracy: 0.9874\n",
      "Epoch 4/10\n",
      "122/122 [==============================] - 36s 292ms/step - loss: 0.0231 - accuracy: 0.9959 - val_loss: 0.0673 - val_accuracy: 0.9874\n",
      "Epoch 5/10\n",
      "122/122 [==============================] - 37s 306ms/step - loss: 0.0102 - accuracy: 0.9979 - val_loss: 0.1386 - val_accuracy: 0.9862\n",
      "Epoch 6/10\n",
      "122/122 [==============================] - 47s 387ms/step - loss: 0.0259 - accuracy: 0.9954 - val_loss: 0.1957 - val_accuracy: 0.9827\n",
      "Epoch 7/10\n",
      "122/122 [==============================] - 48s 392ms/step - loss: 1.6744e-04 - accuracy: 1.0000 - val_loss: 0.2156 - val_accuracy: 0.9862\n",
      "Epoch 8/10\n",
      "122/122 [==============================] - 56s 456ms/step - loss: 0.0139 - accuracy: 0.9992 - val_loss: 0.2420 - val_accuracy: 0.9892\n",
      "Epoch 9/10\n",
      "122/122 [==============================] - 49s 405ms/step - loss: 0.0030 - accuracy: 0.9997 - val_loss: 0.2904 - val_accuracy: 0.9839\n",
      "Epoch 10/10\n",
      "122/122 [==============================] - 53s 438ms/step - loss: 0.0034 - accuracy: 0.9995 - val_loss: 0.3822 - val_accuracy: 0.9844\n"
     ]
    },
    {
     "data": {
      "text/plain": [
       "<tensorflow.python.keras.callbacks.History at 0x7fa147fc6990>"
      ]
     },
     "execution_count": 164,
     "metadata": {},
     "output_type": "execute_result"
    }
   ],
   "source": [
    "model.fit(x_train,\n",
    "          y_train,\n",
    "          epochs=10,\n",
    "          batch_size=32,\n",
    "          validation_data=(x_test,y_test))"
   ]
  },
  {
   "cell_type": "code",
   "execution_count": 166,
   "metadata": {},
   "outputs": [
    {
     "name": "stdout",
     "output_type": "stream",
     "text": [
      "WARNING:tensorflow:Model was constructed with shape (None, 40) for input Tensor(\"embedding_7_input:0\", shape=(None, 40), dtype=float32), but it was called on an input with incompatible shape (None, 189).\n"
     ]
    },
    {
     "data": {
      "text/plain": [
       "0.9862488026819923"
      ]
     },
     "execution_count": 166,
     "metadata": {},
     "output_type": "execute_result"
    }
   ],
   "source": [
    "# calculation for ROC viz\n",
    "y_rnn_pred = model.predict(x_test)\n",
    "fpr_rnn, tpr_rnn, rnn_ = roc_curve(y_test, y_rnn_pred)\n",
    "auc_rnn = auc(fpr_rnn, tpr_rnn)\n",
    "auc_rnn"
   ]
  },
  {
   "cell_type": "code",
   "execution_count": 210,
   "metadata": {},
   "outputs": [],
   "source": [
    "# split data to train and test for CNN\n",
    "x_train, x_test, y_train, y_test  = sklearn.model_selection.train_test_split(x, y, test_size=0.2)"
   ]
  },
  {
   "cell_type": "code",
   "execution_count": 185,
   "metadata": {},
   "outputs": [
    {
     "data": {
      "text/plain": [
       "(4457, 189)"
      ]
     },
     "execution_count": 185,
     "metadata": {},
     "output_type": "execute_result"
    }
   ],
   "source": [
    "x_train.shape"
   ]
  },
  {
   "cell_type": "code",
   "execution_count": 186,
   "metadata": {},
   "outputs": [
    {
     "data": {
      "text/plain": [
       "(4457,)"
      ]
     },
     "execution_count": 186,
     "metadata": {},
     "output_type": "execute_result"
    }
   ],
   "source": [
    "y_train.shape"
   ]
  },
  {
   "cell_type": "code",
   "execution_count": 208,
   "metadata": {},
   "outputs": [
    {
     "name": "stdout",
     "output_type": "stream",
     "text": [
      "Model: \"sequential_43\"\n",
      "_________________________________________________________________\n",
      "Layer (type)                 Output Shape              Param #   \n",
      "=================================================================\n",
      "conv1d_22 (Conv1D)           (None, 189, 200)          600       \n",
      "_________________________________________________________________\n",
      "max_pooling1d_10 (MaxPooling (None, 95, 200)           0         \n",
      "_________________________________________________________________\n",
      "conv1d_23 (Conv1D)           (None, 95, 128)           51328     \n",
      "_________________________________________________________________\n",
      "dropout_63 (Dropout)         (None, 95, 128)           0         \n",
      "_________________________________________________________________\n",
      "conv1d_24 (Conv1D)           (None, 95, 32)            8224      \n",
      "_________________________________________________________________\n",
      "flatten_29 (Flatten)         (None, 3040)              0         \n",
      "_________________________________________________________________\n",
      "dense_34 (Dense)             (None, 16)                48656     \n",
      "_________________________________________________________________\n",
      "dense_35 (Dense)             (None, 1)                 17        \n",
      "=================================================================\n",
      "Total params: 108,825\n",
      "Trainable params: 108,825\n",
      "Non-trainable params: 0\n",
      "_________________________________________________________________\n"
     ]
    }
   ],
   "source": [
    "# cnn model fitting\n",
    "model_cnn = tfk.Sequential([\n",
    "  # relu fucntion\n",
    "  tfkl.Conv1D(filters= 200,\n",
    "              kernel_size=2,\n",
    "              strides=1,\n",
    "              activation='relu',\n",
    "              padding='same',\n",
    "              input_shape=(x_train.shape[1],1)),\n",
    "  tfkl.MaxPooling1D(pool_size=2,\n",
    "                    padding='same'),\n",
    "  tfkl.Conv1D(filters = 128, \n",
    "              kernel_size=2,\n",
    "              strides=1,\n",
    "              activation='relu',\n",
    "              padding='same'),\n",
    "  tfkl.Dropout(0.3),\n",
    "  tfkl.Conv1D(32,\n",
    "              kernel_size=2,\n",
    "              strides=1,\n",
    "              activation='relu',\n",
    "              padding='same'),\n",
    "  tfkl.Flatten(),\n",
    "  tfkl.Dense(16,\n",
    "             activation='relu'),\n",
    "  tfkl.Dense(1,\n",
    "             activation='sigmoid')                     \n",
    "])\n",
    "model_cnn.summary()"
   ]
  },
  {
   "cell_type": "code",
   "execution_count": 214,
   "metadata": {},
   "outputs": [
    {
     "name": "stdout",
     "output_type": "stream",
     "text": [
      "Epoch 1/10\n",
      "140/140 [==============================] - 16s 111ms/step - loss: 1.2599 - accuracy: 0.8454 - val_loss: 0.3155 - val_accuracy: 0.8601\n",
      "Epoch 2/10\n",
      "140/140 [==============================] - 11s 78ms/step - loss: 0.3287 - accuracy: 0.8670 - val_loss: 0.2827 - val_accuracy: 0.8601\n",
      "Epoch 3/10\n",
      "140/140 [==============================] - 9s 66ms/step - loss: 0.2932 - accuracy: 0.8672 - val_loss: 0.2750 - val_accuracy: 0.8601\n",
      "Epoch 4/10\n",
      "140/140 [==============================] - 11s 77ms/step - loss: 0.2907 - accuracy: 0.8674 - val_loss: 0.2727 - val_accuracy: 0.8601\n",
      "Epoch 5/10\n",
      "140/140 [==============================] - 10s 72ms/step - loss: 0.2923 - accuracy: 0.8674 - val_loss: 0.2695 - val_accuracy: 0.8601\n",
      "Epoch 6/10\n",
      "140/140 [==============================] - 11s 79ms/step - loss: 0.2801 - accuracy: 0.8674 - val_loss: 0.2668 - val_accuracy: 0.8601\n",
      "Epoch 7/10\n",
      "140/140 [==============================] - 12s 84ms/step - loss: 0.2777 - accuracy: 0.8674 - val_loss: 0.4479 - val_accuracy: 0.8601\n",
      "Epoch 8/10\n",
      "140/140 [==============================] - 13s 91ms/step - loss: 0.3026 - accuracy: 0.8676 - val_loss: 0.2715 - val_accuracy: 0.8601\n",
      "Epoch 9/10\n",
      "140/140 [==============================] - 9s 65ms/step - loss: 0.2754 - accuracy: 0.8674 - val_loss: 0.2637 - val_accuracy: 0.8601\n",
      "Epoch 10/10\n",
      "140/140 [==============================] - 10s 73ms/step - loss: 0.2717 - accuracy: 0.8674 - val_loss: 0.2626 - val_accuracy: 0.8601\n"
     ]
    },
    {
     "data": {
      "text/plain": [
       "<tensorflow.python.keras.callbacks.History at 0x7fa154428150>"
      ]
     },
     "execution_count": 214,
     "metadata": {},
     "output_type": "execute_result"
    }
   ],
   "source": [
    "# compile model\n",
    "model_cnn.compile(loss='binary_crossentropy',\n",
    "                  optimizer='adam', \n",
    "                  metrics=['accuracy'])\n",
    "# fit cnn model\n",
    "model_cnn.fit(x_train,\n",
    "              y_train,\n",
    "              epochs = 10,\n",
    "              batch_size = 32,\n",
    "              validation_data=(x_test,y_test))"
   ]
  },
  {
   "cell_type": "code",
   "execution_count": 215,
   "metadata": {},
   "outputs": [],
   "source": [
    "# predict cnn x_test\n",
    "y_cnn_pred = model_cnn.predict(x_test)"
   ]
  },
  {
   "cell_type": "code",
   "execution_count": 216,
   "metadata": {},
   "outputs": [
    {
     "data": {
      "text/plain": [
       "0.8848292826395017"
      ]
     },
     "execution_count": 216,
     "metadata": {},
     "output_type": "execute_result"
    }
   ],
   "source": [
    "# cnn metreics for ROC\n",
    "fpr_cnn, tpr_cnn, cnn_ = roc_curve(y_test, y_cnn_pred)\n",
    "auc_cnn = auc(fpr_cnn, tpr_cnn)\n",
    "auc_cnn"
   ]
  },
  {
   "cell_type": "markdown",
   "metadata": {},
   "source": [
    "## Problem 3.3 ROC"
   ]
  },
  {
   "cell_type": "code",
   "execution_count": 217,
   "metadata": {},
   "outputs": [
    {
     "data": {
      "image/png": "[encoded data removed]",
      "text/plain": [
       "<Figure size 432x288 with 1 Axes>"
      ]
     },
     "metadata": {
      "needs_background": "light"
     },
     "output_type": "display_data"
    }
   ],
   "source": [
    "plt.figure()\n",
    "plt.plot([0, 1], [0, 1], 'm--')\n",
    "plt.plot(fpr_rnn, tpr_rnn, label='RNN (area = {:.3f})'.format(auc_rnn))\n",
    "plt.plot(fpr_cnn, tpr_cnn, label='CNN (area = {:.3f})'.format(auc_cnn))\n",
    "plt.title('ROC curve')\n",
    "plt.xlabel('False positive rate')\n",
    "plt.ylabel('True positive rate')\n",
    "plt.legend(loc = 'lower right')\n",
    "\n",
    "plt.show()"
   ]
  },
  {
   "cell_type": "code",
   "execution_count": null,
   "metadata": {},
   "outputs": [],
   "source": []
  }
 ],
 "metadata": {
  "kernelspec": {
   "display_name": "Python 3",
   "language": "python",
   "name": "python3"
  },
  "language_info": {
   "codemirror_mode": {
    "name": "ipython",
    "version": 3
   },
   "file_extension": ".py",
   "mimetype": "text/x-python",
   "name": "python",
   "nbconvert_exporter": "python",
   "pygments_lexer": "ipython3",
   "version": "3.7.4"
  }
 },
 "nbformat": 4,
 "nbformat_minor": 2
}
